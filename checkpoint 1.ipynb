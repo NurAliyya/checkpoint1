{
  "nbformat": 4,
  "nbformat_minor": 0,
  "metadata": {
    "colab": {
      "provenance": []
    },
    "kernelspec": {
      "name": "python3",
      "display_name": "Python 3"
    },
    "language_info": {
      "name": "python"
    }
  },
  "cells": [
    {
      "cell_type": "code",
      "execution_count": null,
      "metadata": {
        "id": "YZy_jq_UN-CU"
      },
      "outputs": [],
      "source": [
        "1. Business Objective\n",
        "Tujuan bisnis dari penggunaan Daily Food and Nutrition Dataset adalah untuk memahami pola makan harian dan kandungan gizi dalam makanan yang dikonsumsi oleh individu.\n",
        "Berdasarkan data tersebut, bisnis dapat mengembangkan aplikasi atau solusi berbasis data yang bertujuan untuk:\n",
        "Menyediakan rekomendasi diet yang lebih personal dan sesuai dengan tujuan kesehatan penggunanya (misalnya, penurunan berat badan, peningkatan energi, atau pemeliharaan kesehatan jantung).\n",
        "Membantu perusahaan makanan untuk merancang produk baru yang lebih sehat dan lebih sesuai dengan kebutuhan gizi konsumen.\n",
        "Mengembangkan aplikasi kesehatan atau kebugaran yang dapat membantu pengguna memantau konsumsi gizi harian mereka dan mencapainya dengan lebih baik.\n",
        "Memberikan wawasan kepada ahli gizi dan institusi kesehatan untuk melakukan penyuluhan tentang pola makan sehat dan mengurangi penyakit yang terkait dengan diet yang buruk (misalnya obesitas, diabetes).\n"
      ]
    },
    {
      "cell_type": "code",
      "source": [
        "Assess Situation\n",
        "Dataset ini terdiri dari informasi tentang makanan dan gizi yang dikonsumsi setiap hari. Memahami struktur dataset dan kualitas data (apakah ada missing value, outliers, atau kesalahan lainnya) sangat penting untuk analisis lebih lanjut.\n",
        "Keterbatasan Data: Pastikan dataset sudah cukup lengkap dan mencakup berbagai jenis makanan yang umum dikonsumsi, serta mencatat dengan jelas komposisi gizi setiap makanan.\n"
      ],
      "metadata": {
        "id": "52t5EFPaSd3w"
      },
      "execution_count": null,
      "outputs": []
    },
    {
      "cell_type": "code",
      "source": [
        "Data Mining Goals\n",
        "Untuk menggali wawasan bermanfaat dari dataset yang ada, seperti mengidentifikasi pola makan dan mengelompokkan makanan berdasarkan kandungan\n",
        "gizinya misalnya, makanan kaya protein, rendah kalori, tinggi serat. Selain itu, proyek ini bertujuan untuk mengembangkan sistem rekomendasi diet menggunakan teknik machine learning, serta menganalisis hubungan antara pola makan dan kesehatan,\n",
        "seperti kaitannya dengan obesitas atau penyakit jantung. Proyek ini juga berfokus pada analisis korelasi antara makanan dan nilai gizi yang diperoleh,\n",
        "serta menyusun pola makan optimal yang memenuhi standar gizi yang direkomendasikan."
      ],
      "metadata": {
        "id": "kQt0L6bDTZ9h"
      },
      "execution_count": null,
      "outputs": []
    },
    {
      "cell_type": "code",
      "source": [
        "Project Plan\n",
        "\n",
        "1. Fase Persiapan Data:\n",
        "\n",
        "Langkah: Mengumpulkan, membersihkan, dan mempersiapkan data yang relevan untuk analisis lebih lanjut. Ini termasuk mengatasi data yang hilang, menghapus duplikasi, dan memastikan konsistensi format.\n",
        "Tujuan: Memastikan data yang digunakan berkualitas tinggi dan bebas dari kesalahan, serta siap untuk analisis lebih lanjut.\n",
        "\n",
        "2. Fase Eksplorasi Data:\n",
        "Langkah: Menggunakan teknik eksplorasi data untuk menganalisis distribusi kalori, kandungan gizi, dan hubungan antar variabel dalam dataset.\n",
        "Tujuan: Mendapatkan wawasan awal mengenai pola makan dan mengidentifikasi faktor yang dapat mempengaruhi kesehatan (misalnya, terlalu banyak lemak atau kurangnya serat dalam makanan).\n",
        "\n",
        "3. Fase Pengembangan Model:\n",
        "Langkah: Mengembangkan model untuk klasifikasi makanan berdasarkan kandungan gizi (misalnya, makanan tinggi protein, rendah kalori, dll.), serta algoritma untuk merekomendasikan pola makan yang sehat.\n",
        "Tujuan: Membuat model yang dapat membantu pengguna memilih makanan sehat berdasarkan analisis konsumsi gizi mereka.\n",
        "\n",
        "4. Fase Pembuatan Rekomendasi Diet:\n",
        "Langkah: Menggunakan hasil dari fase pengembangan model untuk membangun sistem rekomendasi diet yang dipersonalisasi berdasarkan data nutrisi yang telah dianalisis.\n",
        "Tujuan: Memberikan saran diet yang sesuai dengan kebutuhan nutrisi pengguna, termasuk pengaturan kalori, protein, dan asupan gizi lainnya.\n",
        "\n",
        "5. Fase Evaluasi Model:\n",
        "Langkah: Menguji akurasi dan efektivitas model menggunakan data uji. Mengevaluasi model dengan metrik seperti akurasi, presisi, dan recall untuk memastikan sistem rekomendasi berfungsi dengan baik.\n",
        "Tujuan: Memastikan bahwa sistem yang dikembangkan dapat memberikan rekomendasi yang akurat dan bermanfaat bagi pengguna.\n",
        "\n",
        "6. Fase Implementasi dan Pengujian:\n",
        "Langkah: Mengimplementasikan sistem rekomendasi dalam aplikasi nyata atau platform web, serta melakukan pengujian dengan pengguna untuk mengumpulkan feedback.\n",
        "Tujuan: Menyediakan solusi yang berguna bagi pengguna untuk memonitor dan memperbaiki pola makan mereka berdasarkan rekomendasi yang diberikan oleh sistem.\n",
        "\n",
        "7. Fase Pemeliharaan dan Perbaikan:\n",
        "Langkah: Melakukan pemeliharaan rutin terhadap sistem dan memperbarui model dengan data terbaru untuk memastikan relevansi dan keakuratannya.\n",
        "Tujuan: Memastikan sistem tetap efektif dan akurat, serta terus memberikan rekomendasi yang berguna bagi pengguna.\n",
        "\n",
        "Melalui tahapan-tahapan ini, Bertujuan serta mempromosikan gaya hidup sehat melalui pendekatan yang berbasis data."
      ],
      "metadata": {
        "id": "U4xpfUzZUrgY"
      },
      "execution_count": null,
      "outputs": []
    }
  ]
}